{
 "cells": [
  {
   "cell_type": "code",
   "execution_count": 1,
   "metadata": {},
   "outputs": [],
   "source": [
    "import numpy as np\n",
    "import pandas as pd\n",
    "import matplotlib.pyplot as plt\n",
    "\n",
    "#preprocessing\n",
    "from sklearn.preprocessing import StandardScaler, MinMaxScaler\n",
    "\n",
    "# classifier we will use\n",
    "from sklearn.tree import DecisionTreeClassifier\n",
    "\n",
    "# model selection bits\n",
    "from sklearn.model_selection import train_test_split\n",
    "\n",
    "# evaluation\n",
    "from sklearn.metrics import f1_score\n",
    "from sklearn.metrics import accuracy_score\n"
   ]
  },
  {
   "cell_type": "markdown",
   "metadata": {},
   "source": [
    "# Detecting Spam with Decision Trees\n",
    "\n",
    "In this assignment you will detect spam with decision trees. It's always important to investigate the data that you are using for any project. Since data is our gold mine, it's our oil that powers our models we need to have good quality data. Machine learning follows the \"garbage in, garbage out\" principle, if we feed in bad data for training, we will get a model that produces bad results.  For these reasons we want to answer the following questions.\n",
    "\n",
    "## 0.  Learn about the data\n",
    "\n",
    "1. Where did this data come from?\n",
    "2. Who made it?\n",
    "3. How were the features selected?\n",
    "4. Can you trust it?\n",
    "\n",
    "Go ahead and scan through the spambase_features.txt file and the spambase.txt file.  These two files provide information about the dataset, how it was curated and where it came from. Then try to answer the above questions.\n",
    "\n",
    "\n",
    "## 1. Load the data"
   ]
  },
  {
   "cell_type": "code",
   "execution_count": 2,
   "metadata": {},
   "outputs": [],
   "source": [
    "## we are going to hardcode the column names, because this just makes it a little easier to use pandas.\n",
    "\n",
    "names = ['word_freq_make:        ',\n",
    "'word_freq_address:     ',\n",
    "'word_freq_all:         ',\n",
    "'word_freq_3d:          ',\n",
    "'word_freq_our:         ',\n",
    "'word_freq_over:        ',\n",
    "'word_freq_remove:      ',\n",
    "'word_freq_internet:    ',\n",
    "'word_freq_order:       ',\n",
    "'word_freq_mail:        ',\n",
    "'word_freq_receive:     ',\n",
    "'word_freq_will:        ',\n",
    "'word_freq_people:      ',\n",
    "'word_freq_report:      ',\n",
    "'word_freq_addresses:   ',\n",
    "'word_freq_free:        ',\n",
    "'word_freq_business:    ',\n",
    "'word_freq_email:       ',\n",
    "'word_freq_you:         ',\n",
    "'word_freq_credit:      ',\n",
    "'word_freq_your:        ',\n",
    "'word_freq_font:        ',\n",
    "'word_freq_000:         ',\n",
    "'word_freq_money:       ',\n",
    "'word_freq_hp:          ',\n",
    "'word_freq_hpl:         ',\n",
    "'word_freq_george:      ',\n",
    "'word_freq_650:         ',\n",
    "'word_freq_lab:         ',\n",
    "'word_freq_labs:        ',\n",
    "'word_freq_telnet:      ',\n",
    "'word_freq_857:         ',\n",
    "'word_freq_data:        ',\n",
    "'word_freq_415:         ',\n",
    "'word_freq_85:          ',\n",
    "'word_freq_technology:  ',\n",
    "'word_freq_1999:        ',\n",
    "'word_freq_parts:       ',\n",
    "'word_freq_pm:          ',\n",
    "'word_freq_direct:      ',\n",
    "'word_freq_cs:          ',\n",
    "'word_freq_meeting:     ',\n",
    "'word_freq_original:    ',\n",
    "'word_freq_project:     ',\n",
    "'word_freq_re:          ',\n",
    "'word_freq_edu:         ',\n",
    "'word_freq_table:       ',\n",
    "'word_freq_conference:  ',\n",
    "'char_freq_;:           ',\n",
    "'char_freq_(:           ',\n",
    "'char_freq_[:           ',\n",
    "'char_freq_!:           ',\n",
    "'char_freq_$:           ',\n",
    "'char_freq_#:           ',\n",
    "'capital_run_length_average',\n",
    "'capital_run_length_longest',\n",
    "'capital_run_length_total: ',\n",
    "'label']\n",
    "          "
   ]
  },
  {
   "cell_type": "code",
   "execution_count": 3,
   "metadata": {},
   "outputs": [],
   "source": [
    "## Load in the dataset here \n",
    "\n",
    "data = pd.read_csv('spambase/spambase.csv', names = names)\n",
    "X = data.drop('label', axis = 1)\n",
    "y = data.label"
   ]
  },
  {
   "cell_type": "markdown",
   "metadata": {},
   "source": [
    "## 2. Preprocess the data if needed\n",
    "\n",
    "1. Are there any empty values?\n",
    "2. Do you need to transform the data?\n",
    "3. What is the distribution of the positive and negative classes?\n",
    "4. Split the data into training and testing sets\n",
    "\n",
    "Let me give a few hints.  When it comes to scaling the data, we normally just _should_, but in this case we are going to be working with decision trees and I think we learned that they have an interesting property!  \n",
    "\n",
    "We want to look at the distribution of positive (spam) and negative (ham) classes.  So basically we need to look at the count of the labels.  You can use the function `.value_counts()` on `y`.  Note that the function `value_counts` is specific to the Series class, it doesn't work on Dataframes.  Now it's not just enough to look at the raw numbers, I suggest you calculate statistics like \"what percentage of my data is ham? What percentage is spam?  This may help you decide if you should use the `stratify` keyword when splitting your data.\n"
   ]
  },
  {
   "cell_type": "code",
   "execution_count": 7,
   "metadata": {},
   "outputs": [],
   "source": [
    "## The .txt files give the spam mail at 39.4%, so I will stratify my data since this isn't too\n",
    "## rare to be inefficient learning for the model.\n",
    "## Second, we don't need to scale the data as decision trees consider each attribute seperately from the others.\n",
    "X_train, X_test, y_train, y_test = train_test_split(X, y, stratify = y, train_size=0.7)"
   ]
  },
  {
   "cell_type": "code",
   "execution_count": 8,
   "metadata": {},
   "outputs": [],
   "source": [
    "## Split your data with 70% for training, this is somewhat random, but this is how I will do it in the \n",
    "## solution video so you will have similar results. Feel free to change this value and experiment if you like.\n",
    "\n"
   ]
  },
  {
   "cell_type": "markdown",
   "metadata": {},
   "source": [
    "## 3. Train a Decision Tree Classifier\n",
    "\n",
    "1. What metric should we use? The f1-score or accuracy?\n",
    "\n",
    "Let's start with a default model, we won't specify any settings on the decision tree model for the first training. The following will be a 3-step process\n",
    " * training\n",
    " * getting predictions\n",
    " * evaluating our predictions\n",
    " \n",
    "The question does arise, what should we check our predictions on? The obvious answer is that we should check the predictions on our testing set. That's the set of data that simulates our future unseen data. However in our quest to figure out if we are overfitting or not, it could be very useful to look at the performance of the training set.  Remember when we overfit our polynomials and they touched every point? But then we added data the performance would drop. Similarly if the perfomance of the training data is near perfect, but the testing data is much worse, that _gap_ indicates overfitting. So we will check both training and testing performance.\n"
   ]
  },
  {
   "cell_type": "code",
   "execution_count": 9,
   "metadata": {},
   "outputs": [
    {
     "data": {
      "text/plain": [
       "DecisionTreeClassifier()"
      ]
     },
     "execution_count": 9,
     "metadata": {},
     "output_type": "execute_result"
    }
   ],
   "source": [
    "## Train the model\n",
    "clf = DecisionTreeClassifier()\n",
    "clf.fit(X_train, y_train)"
   ]
  },
  {
   "cell_type": "code",
   "execution_count": 10,
   "metadata": {},
   "outputs": [],
   "source": [
    "## get predictions from the model on the training data and the testing data\n",
    "train_predicts = clf.predict(X_train)\n",
    "test_predicts = clf.predict(X_test)"
   ]
  },
  {
   "cell_type": "code",
   "execution_count": 11,
   "metadata": {},
   "outputs": [
    {
     "name": "stdout",
     "output_type": "stream",
     "text": [
      "The f1_score for the training data was 0.9996058336618052\n",
      "The f1_score for the testing data was 0.8880733944954128\n"
     ]
    }
   ],
   "source": [
    "## evaluate the predictions\n",
    "## Note that the order of the arguments is **very** important for f1-score\n",
    "f1_train = f1_score(y_train, train_predicts)\n",
    "f1_test = f1_score(y_test, test_predicts)\n",
    "print(f\"The f1_score for the training data was {f1_train}\")\n",
    "print(f\"The f1_score for the testing data was {f1_test}\")"
   ]
  },
  {
   "cell_type": "markdown",
   "metadata": {},
   "source": [
    "## Comment:\n",
    "\n",
    "It is worse to falsely label a genuine email as spam than it is to let some spam through.\n",
    "So we want to minimise False Positives. Therefore, we care about precision and so the F1-score should be more\n",
    "important than the accuracy.\n",
    "\n",
    "Second, we are certainly getting overfitting in the above. Our training f1_score was absurdly high, while our testing score was only ~89%."
   ]
  },
  {
   "cell_type": "markdown",
   "metadata": {},
   "source": [
    "## 4. Did we overfit? Either way, let's try out some of the decision tree parameters\n",
    "\n",
    "Go ahead and try out some different tree parameters. \n",
    "\n",
    "* `max_depth`\n",
    "* `min_samples_split`\n",
    "* `min_samples_leaf`\n",
    "\n",
    "All three of these parameters will control the complexity of the tree.  Before you try them out, let's take a quick quiz:\n",
    "\n",
    "* increasing `max_depth` will : **Increase** or **Decrease** overfitting?\n",
    "* increasing `min_samples_split` will: **Increase** or **Decrease** overfitting?\n",
    "* increasing `min_samples_leaf` will: **Increase** or **Decrease** overfitting?\n",
    "\n",
    "It's very important to know the answer to these questions - because other wise you can't tune the parameters correctly. If you aren't sure go back and check the quiz on this very topic.\n",
    "\n",
    "Go ahead and try at least 3 values for each parameter. Then if you try 3 values for each combination, you actually would try 9 total parameters. You can see where this is going -- `for` loops! At this point I encourage you to just try whatever method you want, you can ad-hoc try different values or you can get robust with for-loops. Whatever you are inspired to do. The main point is to try out some values and see what you find.  What helps improve our testing performance the best?"
   ]
  },
  {
   "cell_type": "code",
   "execution_count": 12,
   "metadata": {},
   "outputs": [
    {
     "name": "stdout",
     "output_type": "stream",
     "text": [
      "The f1_score for the training data was 0.903954802259887\n",
      "The f1_score for the testing data was 0.8817407757805109\n"
     ]
    }
   ],
   "source": [
    "clf = DecisionTreeClassifier(max_depth = 5, min_samples_split = 10, min_samples_leaf = 5)\n",
    "clf.fit(X_train, y_train)\n",
    "train_predicts = clf.predict(X_train)\n",
    "test_predicts = clf.predict(X_test)\n",
    "f1_train = f1_score(y_train, train_predicts)\n",
    "f1_test = f1_score(y_test, test_predicts)\n",
    "print(f\"The f1_score for the training data was {f1_train}\")\n",
    "print(f\"The f1_score for the testing data was {f1_test}\")"
   ]
  },
  {
   "cell_type": "code",
   "execution_count": 13,
   "metadata": {},
   "outputs": [
    {
     "name": "stdout",
     "output_type": "stream",
     "text": [
      "The f1_score for the training data was 0.9323187825390469\n",
      "The f1_score for the testing data was 0.8968105065666041\n"
     ]
    }
   ],
   "source": [
    "clf = DecisionTreeClassifier(max_depth = 8, min_samples_split = 10, min_samples_leaf = 5)\n",
    "clf.fit(X_train, y_train)\n",
    "train_predicts = clf.predict(X_train)\n",
    "test_predicts = clf.predict(X_test)\n",
    "f1_train = f1_score(y_train, train_predicts)\n",
    "f1_test = f1_score(y_test, test_predicts)\n",
    "print(f\"The f1_score for the training data was {f1_train}\")\n",
    "print(f\"The f1_score for the testing data was {f1_test}\")"
   ]
  },
  {
   "cell_type": "code",
   "execution_count": 14,
   "metadata": {},
   "outputs": [
    {
     "name": "stdout",
     "output_type": "stream",
     "text": [
      "The f1_score for the training data was 0.9354191736863217\n",
      "The f1_score for the testing data was 0.8874296435272045\n"
     ]
    }
   ],
   "source": [
    "clf = DecisionTreeClassifier(max_depth = 8, min_samples_split = 8, min_samples_leaf = 4)\n",
    "clf.fit(X_train, y_train)\n",
    "train_predicts = clf.predict(X_train)\n",
    "test_predicts = clf.predict(X_test)\n",
    "f1_train = f1_score(y_train, train_predicts)\n",
    "f1_test = f1_score(y_test, test_predicts)\n",
    "print(f\"The f1_score for the training data was {f1_train}\")\n",
    "print(f\"The f1_score for the testing data was {f1_test}\")"
   ]
  },
  {
   "cell_type": "code",
   "execution_count": 15,
   "metadata": {},
   "outputs": [
    {
     "name": "stdout",
     "output_type": "stream",
     "text": [
      "The f1_score for the training data was 0.9368000000000001\n",
      "The f1_score for the testing data was 0.8932584269662922\n"
     ]
    }
   ],
   "source": [
    "clf = DecisionTreeClassifier(max_depth = 8, min_samples_split = 10, min_samples_leaf = 3)\n",
    "clf.fit(X_train, y_train)\n",
    "train_predicts = clf.predict(X_train)\n",
    "test_predicts = clf.predict(X_test)\n",
    "f1_train = f1_score(y_train, train_predicts)\n",
    "f1_test = f1_score(y_test, test_predicts)\n",
    "print(f\"The f1_score for the training data was {f1_train}\")\n",
    "print(f\"The f1_score for the testing data was {f1_test}\")"
   ]
  },
  {
   "cell_type": "markdown",
   "metadata": {},
   "source": [
    "# Ok, now let's do it systematically\n",
    "\n",
    "Let's do it with some for loops. This will lead us to having more data than we can \"look\" at, so naturally we will plot it.\n",
    "I've started the for loop for you, you need to fill in the inner part."
   ]
  },
  {
   "cell_type": "code",
   "execution_count": 20,
   "metadata": {},
   "outputs": [
    {
     "name": "stdout",
     "output_type": "stream",
     "text": [
      "[0.7937336814621411, 0.8548724383103303, 0.8831908831908831, 0.9060104881000401, 0.918633034987795, 0.9346169273967108, 0.9457613499397349, 0.9569762766385204, 0.9667601121345615, 0.9740518962075848, 0.9784860557768923, 0.9812823576264436, 0.9845299484331614, 0.9861055974593091, 0.9873116574147502, 0.9896988906497622, 0.992487149070779, 0.9940734887396286, 0.9952569169960475, 0.9964440932437773, 0.9976303317535545, 0.9984214680347278, 0.9988175009854159, 0.999211356466877, 0.999211356466877, 0.999211356466877, 0.999211356466877, 0.9996058336618052, 0.9996058336618052, 0.9996058336618052, 0.9996058336618052, 0.9996058336618052, 0.9996058336618052, 0.9996058336618052, 0.9996058336618052, 0.9996058336618052, 0.9996058336618052, 0.9996058336618052, 0.9996058336618052, 0.9996058336618052, 0.9996058336618052, 0.9996058336618052, 0.9996058336618052, 0.9996058336618052, 0.9996058336618052, 0.9996058336618052, 0.9996058336618052, 0.9996058336618052]\n",
      " \n",
      "[0.7823470411233702, 0.8447937131630648, 0.8666666666666667, 0.8834123222748814, 0.8865586272640609, 0.8916116870876531, 0.8909952606635072, 0.8920454545454547, 0.8945386064030133, 0.897196261682243, 0.897196261682243, 0.8959700093720712, 0.8934198331788694, 0.8930232558139535, 0.8880666049953746, 0.8911439114391144, 0.88929889298893, 0.8844036697247706, 0.8823529411764706, 0.878538812785388, 0.8847926267281105, 0.8850045998160073, 0.8835930339138405, 0.8817598533455545, 0.8892921960072594, 0.8846153846153846, 0.8913443830570902, 0.8794848206071756, 0.8833792470156105, 0.8872458410351202, 0.8793418647166361, 0.8821362799263351, 0.8815426997245178, 0.8808864265927977, 0.8817598533455545, 0.8864468864468864, 0.8858195211786373, 0.8827838827838828, 0.8778696051423325, 0.8917668825161887, 0.8903107861060329, 0.8901200369344413, 0.8790397045244691, 0.8802946593001841, 0.8821362799263351, 0.8844036697247706, 0.8868613138686132, 0.8780934922089826]\n"
     ]
    }
   ],
   "source": [
    "train_results = []\n",
    "test_results = []\n",
    "for i in range(2,50): # feel free to change these, I just threw out a reasonable option here.\n",
    "    \n",
    "    dtc = DecisionTreeClassifier(max_depth=i)  #select a parameter to check\n",
    "    dtc.fit(X_train, y_train)                                       # train the model\n",
    "    train_predicts = dtc.predict(X_train)                           # get predictions for both training and test\n",
    "    test_predicts = dtc.predict(X_test)                    # evaluate them and append them into the our lists.\n",
    "    train_results.append(f1_score(y_train, train_predicts))\n",
    "    test_results.append(f1_score(y_test, test_predicts))\n",
    "    \n",
    "print(train_results)\n",
    "print ( \" \")\n",
    "print (test_results)"
   ]
  },
  {
   "cell_type": "code",
   "execution_count": 21,
   "metadata": {},
   "outputs": [
    {
     "name": "stdout",
     "output_type": "stream",
     "text": [
      "[0.9996058336618052, 0.995647012267511, 0.9901146698299723, 0.9873317498020586, 0.9821499404998016, 0.9793977812995246, 0.9786053882725833, 0.977389924633082, 0.9758224336107807, 0.971405877680699, 0.9682791435368755, 0.9671287128712871, 0.9655718242975861, 0.964780371982588, 0.963197467352592, 0.9602543720190778, 0.9602543720190778, 0.9602543720190778, 0.9582172701949861, 0.9566600397614314, 0.9558998808104888, 0.9534050179211468, 0.950910530482977, 0.9473267326732673, 0.9473267326732673, 0.946407304485907, 0.946407304485907, 0.9456133386264391, 0.9456133386264391, 0.9459888800635425, 0.9456133386264391, 0.9456133386264391, 0.946031746031746, 0.946031746031746, 0.946031746031746, 0.9422540820390284, 0.9415999999999999, 0.9411764705882353, 0.9380032206119162, 0.937625754527163, 0.9380032206119162, 0.9380032206119162, 0.9380032206119162, 0.937625754527163, 0.9372485921158488, 0.937625754527163, 0.937625754527163, 0.937625754527163]\n",
      " \n",
      "[0.8840182648401825, 0.8862385321100917, 0.878538812785388, 0.8851851851851852, 0.8794848206071756, 0.8808864265927977, 0.8806660499537464, 0.8806660499537464, 0.8802946593001841, 0.882079851439183, 0.882079851439183, 0.8773234200743495, 0.8812615955473099, 0.8814814814814815, 0.8783658310120707, 0.8795518207282913, 0.8783658310120707, 0.8828996282527881, 0.8865979381443299, 0.8841121495327102, 0.8870214752567694, 0.8870214752567694, 0.8804448563484708, 0.8785912882298424, 0.874074074074074, 0.8730305838739575, 0.8746518105849582, 0.872794800371402, 0.8744186046511627, 0.8748841519925858, 0.8762790697674419, 0.8765088207985143, 0.8736059479553903, 0.8756957328385901, 0.8756957328385901, 0.874766355140187, 0.8742964352720451, 0.873477038425492, 0.8757062146892653, 0.8757062146892653, 0.8773584905660377, 0.8730009407337723, 0.8751173708920188, 0.8757062146892653, 0.8757062146892653, 0.8740601503759398, 0.8748824082784572, 0.8746465598491988]\n"
     ]
    }
   ],
   "source": [
    "train_results = []\n",
    "test_results = []\n",
    "for i in range(2,50): # feel free to change these, I just threw out a reasonable option here.\n",
    "    \n",
    "    dtc = DecisionTreeClassifier(min_samples_split=i)  #select a parameter to check\n",
    "    dtc.fit(X_train, y_train)                                       # train the model\n",
    "    train_predicts = dtc.predict(X_train)                           # get predictions for both training and test\n",
    "    test_predicts = dtc.predict(X_test)                    # evaluate them and append them into the our lists.\n",
    "    train_results.append(f1_score(y_train, train_predicts))\n",
    "    test_results.append(f1_score(y_test, test_predicts))\n",
    "    \n",
    "print(train_results)\n",
    "print ( \" \")\n",
    "print (test_results)"
   ]
  },
  {
   "cell_type": "code",
   "execution_count": 22,
   "metadata": {},
   "outputs": [
    {
     "name": "stdout",
     "output_type": "stream",
     "text": [
      "[0.9752000000000001, 0.964314036478985, 0.9561053471667996, 0.9494627934739355, 0.9422080510163411, 0.9405745769382133, 0.9360857483128225, 0.931691818903892, 0.9310482263850139, 0.9282030940103133, 0.9217809867629361, 0.9211155378486056, 0.9168000000000001, 0.9118589743589745, 0.9110032362459547, 0.9092369477911647, 0.9102512963701634, 0.9078579976067012, 0.9055845721173161, 0.9018181818181819, 0.9009661835748792, 0.900763358778626, 0.8975293641150265, 0.8900565885206143, 0.8925553319919518, 0.8921962992759453, 0.8921725239616612, 0.8917299240910909, 0.8888012618296529, 0.8887147335423197, 0.8883666274970624, 0.8917545916373583, 0.8895949166004765, 0.8872785829307568, 0.8868304470398711, 0.8863819500402901, 0.885483870967742, 0.8845070422535213, 0.8757687576875769, 0.877221324717286, 0.8714579055441477, 0.8720262510254306, 0.8717738631708315, 0.8717738631708315, 0.8718788374948834, 0.8715220949263502, 0.8712709440130771, 0.8693877551020409]\n",
      " \n",
      "[0.8802228412256268, 0.8827838827838828, 0.8996282527881041, 0.9047178538390379, 0.9073900841908326, 0.8988970588235294, 0.8987929433611885, 0.8800738007380073, 0.8833333333333334, 0.8817005545286507, 0.8895131086142323, 0.8905380333951762, 0.8903345724907062, 0.8775894538606401, 0.8739336492890996, 0.876865671641791, 0.8766355140186917, 0.871268656716418, 0.8737137511693172, 0.868421052631579, 0.8641509433962264, 0.8704566635601118, 0.8636363636363636, 0.8641975308641975, 0.8685714285714287, 0.867745004757374, 0.862488306828812, 0.862488306828812, 0.8634280476626948, 0.8618181818181818, 0.8610354223433243, 0.8602150537634408, 0.8514129443938013, 0.8550323176361957, 0.8550323176361957, 0.8539741219963031, 0.851063829787234, 0.8513388734995382, 0.8415094339622641, 0.8520930232558139, 0.8514285714285713, 0.8509021842355176, 0.8500948766603416, 0.8500948766603416, 0.8500948766603416, 0.8500948766603416, 0.8522727272727272, 0.8522727272727272]\n"
     ]
    }
   ],
   "source": [
    "train_results = []\n",
    "test_results = []\n",
    "for i in range(2,50): # feel free to change these, I just threw out a reasonable option here.\n",
    "    \n",
    "    dtc = DecisionTreeClassifier(min_samples_leaf=i)  #select a parameter to check\n",
    "    dtc.fit(X_train, y_train)                                       # train the model\n",
    "    train_predicts = dtc.predict(X_train)                           # get predictions for both training and test\n",
    "    test_predicts = dtc.predict(X_test)                    # evaluate them and append them into the our lists.\n",
    "    train_results.append(f1_score(y_train, train_predicts))\n",
    "    test_results.append(f1_score(y_test, test_predicts))\n",
    "    \n",
    "print(train_results)\n",
    "print ( \" \")\n",
    "print (test_results)"
   ]
  },
  {
   "cell_type": "markdown",
   "metadata": {},
   "source": [
    "## That's a lot of numbers!\n",
    "\n",
    "What do all those numbers tell us? Well we can pick out the best values using something like `np.max` and then we can relate it to the best parameter with the argument that correlates to that value (so depth 2 gave us .85 score etc).  But I think we'll find more interesting to plot these points.  I've provided the code for you below."
   ]
  },
  {
   "cell_type": "code",
   "execution_count": 23,
   "metadata": {},
   "outputs": [
    {
     "data": {
      "text/plain": [
       "<matplotlib.legend.Legend at 0x1ed50272490>"
      ]
     },
     "execution_count": 23,
     "metadata": {},
     "output_type": "execute_result"
    },
    {
     "data": {
      "image/png": "[encoded data removed]",
      "text/plain": [
       "<Figure size 720x432 with 1 Axes>"
      ]
     },
     "metadata": {
      "needs_background": "light"
     },
     "output_type": "display_data"
    }
   ],
   "source": [
    "fig,ax = plt.subplots(figsize = (10,6));\n",
    "ax.plot(train_results, color = 'r', label = 'train')\n",
    "ax.plot(test_results, color = 'b', label = 'test')\n",
    "ax.legend()"
   ]
  },
  {
   "cell_type": "markdown",
   "metadata": {},
   "source": [
    "## This graph is called a validation curve\n",
    "\n",
    "What we have done is plotted the performance of the training and testing data against a parameter that was varied. How do we read this graph?\n",
    "What information can you glean?\n",
    "When does our model start to overfit?  \n",
    "Based on what you see here, what do you think the best choice for the parameter you were checking is?  That is, looking at the graph, what value would you choose for a spam detection model that you were going to deploy? Don't forget the purpose of the model!\n"
   ]
  },
  {
   "cell_type": "markdown",
   "metadata": {},
   "source": [
    "#### Your answers here"
   ]
  },
  {
   "cell_type": "markdown",
   "metadata": {},
   "source": [
    "(1) The difference in vertical height corresponds to the discrepancy of our model on training data versus testing data. As expected, the model does better on training data.\n",
    "\n",
    "(2) For small values of min_samples_leaf (the parameter that's being varied above) we have a lot of overfitting; our model does extremely well on the training data, but badly on the testing data.\n",
    "\n",
    "(3) The above graph suggests an ideal min_samples_leaf of 6, giving 0.91 f1_score on the testing data.\n",
    "\n",
    "(4) For values beyond 6, our model starts to suffer from underfitting; the larger parameter values are too restrictive and our model preforms less well."
   ]
  },
  {
   "cell_type": "markdown",
   "metadata": {},
   "source": [
    "# Finally... we ... made a mistake!\n",
    "Do you see what the giant mistake we did? Go ahead and let us know below.\n",
    "If you don't see the mistake... don't worry I'll explain in the next unit!\n"
   ]
  },
  {
   "cell_type": "markdown",
   "metadata": {},
   "source": [
    "#### Your answer here"
   ]
  },
  {
   "cell_type": "markdown",
   "metadata": {},
   "source": [
    "I can think of two mistakes:\n",
    "\n",
    "(1) We're using the testing data more than once. At the moment we're trying to optimise towards this randomly picked selection. But we don't know that a different testing set wouldn't give different results. We could fix this by getting more data and repeating the above on that.\n",
    "\n",
    "(2) We're only varying one of the parameters at a time. It's possible that their effects will depend on each other. So if we really wanted the best triple (max_depth, min_samples_leaf, min_samples_split) then we should vary all at once."
   ]
  },
  {
   "cell_type": "code",
   "execution_count": null,
   "metadata": {},
   "outputs": [],
   "source": []
  }
 ],
 "metadata": {
  "kernelspec": {
   "display_name": "Python 3 (ipykernel)",
   "language": "python",
   "name": "python3"
  },
  "language_info": {
   "codemirror_mode": {
    "name": "ipython",
    "version": 3
   },
   "file_extension": ".py",
   "mimetype": "text/x-python",
   "name": "python",
   "nbconvert_exporter": "python",
   "pygments_lexer": "ipython3",
   "version": "3.9.9"
  }
 },
 "nbformat": 4,
 "nbformat_minor": 4
}
